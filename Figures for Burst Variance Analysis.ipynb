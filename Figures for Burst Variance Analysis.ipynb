{
 "cells": [
  {
   "cell_type": "markdown",
   "metadata": {},
   "source": [
    "# BVA Figures for FRETBursts Paper\n",
    "\n",
    "\n",
    "*This notebook generates the BVA figures for the paper:*\n",
    "\n",
    "<br>\n",
    "<div class=\"alert alert-success\">\n",
    "**FRETBursts: Open Source Burst Analysis Toolkit for Confocal Single-Molecule FRET**<br>\n",
    "Ingargiola et al. (2016). biorXiv doi:[10.1101/039198](http://dx.doi.org/10.1101/039198)\n",
    "</div>"
   ]
  },
  {
   "cell_type": "markdown",
   "metadata": {},
   "source": [
    "# Load the software"
   ]
  },
  {
   "cell_type": "markdown",
   "metadata": {},
   "source": [
    "We start loading the **`FRETBursts`** software:"
   ]
  },
  {
   "cell_type": "code",
   "execution_count": null,
   "metadata": {
    "collapsed": false,
    "scrolled": false
   },
   "outputs": [],
   "source": [
    "from fretbursts import *\n",
    "sns = init_notebook()"
   ]
  },
  {
   "cell_type": "markdown",
   "metadata": {},
   "source": [
    "# Download and load the data"
   ]
  },
  {
   "cell_type": "code",
   "execution_count": null,
   "metadata": {
    "collapsed": false
   },
   "outputs": [],
   "source": [
    "url = 'http://files.figshare.com/4858417/HairPin3_RT_400mM_NaCl_A_31_TA.hdf5'\n",
    "download_file(url, save_dir='./data')"
   ]
  },
  {
   "cell_type": "code",
   "execution_count": null,
   "metadata": {
    "collapsed": false
   },
   "outputs": [],
   "source": [
    "url = 'http://files.figshare.com/4858420/20dA_20dT_200mMgCl2.hdf5'\n",
    "download_file(url, save_dir='./data')"
   ]
  },
  {
   "cell_type": "code",
   "execution_count": null,
   "metadata": {
    "collapsed": false
   },
   "outputs": [],
   "source": [
    "full_fname1 = 'data/20dA_20dT_200mMgCl2.hdf5'\n",
    "full_fname2 = 'data/HairPin3_RT_400mM_NaCl_A_31_TA.hdf5'"
   ]
  },
  {
   "cell_type": "code",
   "execution_count": null,
   "metadata": {
    "collapsed": false,
    "scrolled": true
   },
   "outputs": [],
   "source": [
    "d1 = loader.photon_hdf5(full_fname1)\n",
    "d2 = loader.photon_hdf5(full_fname2)"
   ]
  },
  {
   "cell_type": "markdown",
   "metadata": {},
   "source": [
    "# μs-ALEX parameters\n",
    "\n",
    "Here we define and apply the alternation parameters. Note that these parameters\n",
    "are already stored in the Photon-HDF5 files but can be overridden by the user:"
   ]
  },
  {
   "cell_type": "code",
   "execution_count": null,
   "metadata": {
    "collapsed": false
   },
   "outputs": [],
   "source": [
    "d1.add(det_donor_accept=(0, 1), \n",
    "      alex_period=4000, \n",
    "      D_ON=(2100, 3900), \n",
    "      A_ON=(150, 1900),\n",
    "      offset=700)\n",
    "bpl.plot_alternation_hist (d1)\n",
    "loader.usalex_apply_period(d1)"
   ]
  },
  {
   "cell_type": "code",
   "execution_count": null,
   "metadata": {
    "collapsed": false
   },
   "outputs": [],
   "source": [
    "d2.add(det_donor_accept=(0, 1), \n",
    "      alex_period=4000, \n",
    "      D_ON=(2100, 3900), \n",
    "      A_ON=(150, 1900),\n",
    "      offset=700)\n",
    "bpl.plot_alternation_hist (d2)\n",
    "loader.usalex_apply_period(d2)"
   ]
  },
  {
   "cell_type": "markdown",
   "metadata": {},
   "source": [
    "# Compute background"
   ]
  },
  {
   "cell_type": "code",
   "execution_count": null,
   "metadata": {
    "collapsed": false
   },
   "outputs": [],
   "source": [
    "d1.calc_bg(bg.exp_fit, time_s=50.1, tail_min_us='auto', F_bg=1.7)\n",
    "d2.calc_bg(bg.exp_fit, time_s=50.1, tail_min_us='auto', F_bg=1.7)"
   ]
  },
  {
   "cell_type": "markdown",
   "metadata": {},
   "source": [
    "# Burst  search and selection\n",
    "\n",
    "For BVA we perform burst search on the Dex photon stream \n",
    "and compute the raw uncorrected E values:"
   ]
  },
  {
   "cell_type": "code",
   "execution_count": null,
   "metadata": {
    "collapsed": false
   },
   "outputs": [],
   "source": [
    "d1.burst_search(m=10, computefret=False, ph_sel=Ph_sel(Dex='DAem'))\n",
    "d1.calc_fret(count_ph=True, corrections=False)"
   ]
  },
  {
   "cell_type": "code",
   "execution_count": null,
   "metadata": {
    "collapsed": false
   },
   "outputs": [],
   "source": [
    "d2.burst_search(m=10, computefret=False, ph_sel=Ph_sel(Dex='DAem'))\n",
    "d2.calc_fret(count_ph=True, corrections=False)"
   ]
  },
  {
   "cell_type": "markdown",
   "metadata": {},
   "source": [
    "Here we filter out D-only adn A-only populations:"
   ]
  },
  {
   "cell_type": "code",
   "execution_count": null,
   "metadata": {
    "collapsed": false
   },
   "outputs": [],
   "source": [
    "ds1 = d1.select_bursts(select_bursts.naa, th1=30, computefret=False)\n",
    "ds_1 = ds1.select_bursts(select_bursts.size, th1=30, computefret=False)\n",
    "ds_FRET1 = ds_1.select_bursts(select_bursts.S, S1=0.25, S2=0.85, computefret=False)"
   ]
  },
  {
   "cell_type": "code",
   "execution_count": null,
   "metadata": {
    "collapsed": false
   },
   "outputs": [],
   "source": [
    "ds2 = d2.select_bursts(select_bursts.naa, th1=70, computefret=False)\n",
    "ds_2 = ds2.select_bursts(select_bursts.size, th1=70, computefret=False)\n",
    "ds_FRET2 = ds_2.select_bursts(select_bursts.S, S1=0.25, S2=0.85, computefret=False)"
   ]
  },
  {
   "cell_type": "markdown",
   "metadata": {},
   "source": [
    "Next, we save the E-S histograms for the two files:"
   ]
  },
  {
   "cell_type": "code",
   "execution_count": null,
   "metadata": {
    "collapsed": false
   },
   "outputs": [],
   "source": [
    "alex_jointplot(ds_FRET1)\n",
    "plt.savefig('figures/ALEX_static.png', dpi=200, bbox_inches='tight')"
   ]
  },
  {
   "cell_type": "code",
   "execution_count": null,
   "metadata": {
    "collapsed": false
   },
   "outputs": [],
   "source": [
    "alex_jointplot(ds_FRET2)\n",
    "plt.savefig('figures/ALEX_dynamic.png', dpi=200, bbox_inches='tight')"
   ]
  },
  {
   "cell_type": "markdown",
   "metadata": {},
   "source": [
    "# Burst Variance Analysis\n",
    "\n",
    "For start, we define a function computing the BVA:"
   ]
  },
  {
   "cell_type": "code",
   "execution_count": null,
   "metadata": {
    "collapsed": false
   },
   "outputs": [],
   "source": [
    "def bva_sigma_E(n, bursts_d, DexAem_mask_d):\n",
    "    E_sub_std = []\n",
    "    for burst in bursts_d:\n",
    "        E_sub_bursts = []\n",
    "        startlist = range(burst.istart, burst.istop + 2 - n, n)\n",
    "        stoplist = [i + n for i in startlist]\n",
    "        for start, stop in zip(startlist, stoplist):\n",
    "            A_D = DexAem_mask_d[start:stop].sum()\n",
    "            assert stop-start == n\n",
    "            E = A_D / n\n",
    "            E_sub_bursts.append(E)\n",
    "        E_sub_std.append(np.std(E_sub_bursts))\n",
    "    return np.array(E_sub_std)"
   ]
  },
  {
   "cell_type": "markdown",
   "metadata": {},
   "source": [
    "## Static mixture: di-labeled 20dT + 20dA\n",
    "\n",
    "Let's print the sample description:"
   ]
  },
  {
   "cell_type": "code",
   "execution_count": null,
   "metadata": {
    "collapsed": false
   },
   "outputs": [],
   "source": [
    "d1.sample['sample_name']"
   ]
  },
  {
   "cell_type": "code",
   "execution_count": null,
   "metadata": {
    "collapsed": false
   },
   "outputs": [],
   "source": [
    "ph_d1 = ds_FRET1.get_ph_times(ph_sel=Ph_sel(Dex='DAem'))\n",
    "bursts1 = ds_FRET1.mburst[0]\n",
    "bursts_d1 = bursts1.recompute_index_reduce(ph_d1)"
   ]
  },
  {
   "cell_type": "code",
   "execution_count": null,
   "metadata": {
    "collapsed": true
   },
   "outputs": [],
   "source": [
    "Dex_mask1 = ds_FRET1.get_ph_mask(ph_sel=Ph_sel(Dex='DAem'))   \n",
    "DexAem_mask1 = ds_FRET1.get_ph_mask(ph_sel=Ph_sel(Dex='Aem')) \n",
    "DexAem_mask_d1 = DexAem_mask1[Dex_mask1]"
   ]
  },
  {
   "cell_type": "code",
   "execution_count": null,
   "metadata": {
    "collapsed": true
   },
   "outputs": [],
   "source": [
    "n = 7\n",
    "E_sub_std1 = bva_sigma_E(n, bursts_d1, DexAem_mask_d1)"
   ]
  },
  {
   "cell_type": "code",
   "execution_count": null,
   "metadata": {
    "collapsed": false,
    "scrolled": false
   },
   "outputs": [],
   "source": [
    "sns.set_style(style='darkgrid')\n",
    "plt.figure(figsize=(6,6))\n",
    "x = np.arange(0,1.01,0.01)\n",
    "y = np.sqrt((x*(1-x))/n)\n",
    "plt.plot(x,y, lw=3, color='red')\n",
    "im = sns.kdeplot(ds_FRET1.E_, E_sub_std1, shade=True, cmap='viridis', shade_lowest=False, n_levels=9)\n",
    "plt.xlim(0,1)\n",
    "plt.ylim(0,0.4)\n",
    "plt.xlabel('PR', fontsize=14)\n",
    "plt.ylabel(r'$\\sigma_E$', fontsize=24)\n",
    "plt.savefig('figures/BVA_static.png', dpi=200, bbox_inches='tight')"
   ]
  },
  {
   "cell_type": "markdown",
   "metadata": {},
   "source": [
    "<div class=\"alert alert-warning\">\n",
    "To get the same KDE plot of the paper make sure that the package `statsmodels` is installed.\n",
    "</div>"
   ]
  },
  {
   "cell_type": "markdown",
   "metadata": {},
   "source": [
    "## Dynamics: Hairpin\n",
    "\n",
    "Data: Hairpin construct $A_{31}-TA$ from [Tsukanov 2013](http://doi.org/10.1021/jp4059214)."
   ]
  },
  {
   "cell_type": "code",
   "execution_count": null,
   "metadata": {
    "collapsed": false
   },
   "outputs": [],
   "source": [
    "d2.sample['sample_name']"
   ]
  },
  {
   "cell_type": "code",
   "execution_count": null,
   "metadata": {
    "collapsed": false
   },
   "outputs": [],
   "source": [
    "ph_d2 = ds_FRET2.get_ph_times(ph_sel=Ph_sel(Dex='DAem'))\n",
    "bursts2 = ds_FRET2.mburst[0]\n",
    "bursts_d2 = bursts2.recompute_index_reduce(ph_d2)"
   ]
  },
  {
   "cell_type": "code",
   "execution_count": null,
   "metadata": {
    "collapsed": true
   },
   "outputs": [],
   "source": [
    "Dex_mask2 = ds_FRET2.get_ph_mask(ph_sel=Ph_sel(Dex='DAem'))   \n",
    "DexAem_mask2 = ds_FRET2.get_ph_mask(ph_sel=Ph_sel(Dex='Aem')) \n",
    "DexAem_mask_d2 = DexAem_mask2[Dex_mask2]"
   ]
  },
  {
   "cell_type": "code",
   "execution_count": null,
   "metadata": {
    "collapsed": true
   },
   "outputs": [],
   "source": [
    "n = 7\n",
    "E_sub_std2 = bva_sigma_E(n, bursts_d2, DexAem_mask_d2)"
   ]
  },
  {
   "cell_type": "code",
   "execution_count": null,
   "metadata": {
    "collapsed": false,
    "scrolled": false
   },
   "outputs": [],
   "source": [
    "sns.set_style(style='darkgrid')\n",
    "plt.figure(figsize=(6,6))\n",
    "x=np.arange(0,1.01,0.01)\n",
    "y=np.sqrt((x*(1-x))/n)\n",
    "plt.plot(x,y, lw=3, color='red')\n",
    "im = sns.kdeplot(ds_FRET2.E_, E_sub_std2, shade=True, cmap='viridis', shade_lowest=False)\n",
    "plt.xlim(0,1)\n",
    "plt.ylim(0,0.4)\n",
    "plt.xlabel('PR', fontsize=14)\n",
    "plt.ylabel(r'$\\sigma_E$', fontsize=24)\n",
    "plt.savefig('figures/BVA_dynamic.png', dpi=200, bbox_inches='tight')"
   ]
  },
  {
   "cell_type": "markdown",
   "metadata": {},
   "source": [
    "<div class=\"alert alert-warning\">\n",
    "To get the same KDE plot of the paper make sure that the package `statsmodels` is installed.\n",
    "</div>"
   ]
  },
  {
   "cell_type": "markdown",
   "metadata": {
    "collapsed": true
   },
   "source": [
    "# Join the images\n",
    "\n",
    "Finally, we simply join the images together to generate the final figures."
   ]
  },
  {
   "cell_type": "code",
   "execution_count": null,
   "metadata": {
    "collapsed": true
   },
   "outputs": [],
   "source": [
    "import sys\n",
    "from IPython.display import display\n",
    "from PIL import Image"
   ]
  },
  {
   "cell_type": "code",
   "execution_count": null,
   "metadata": {
    "collapsed": false
   },
   "outputs": [],
   "source": [
    "for label in ('static','dynamic'):\n",
    "    ALEX= Image.open(\"figures/ALEX_%s.png\" % label)\n",
    "    BVA = Image.open(\"figures/BVA_%s.png\" % label)\n",
    "    ALEX.thumbnail((1200,1088))\n",
    "    BVA.thumbnail((1160,1088))\n",
    "    new_im = Image.new('RGBA', (2560,1088))\n",
    "    im_list=[ALEX, BVA]\n",
    "    j=0\n",
    "    for im in im_list:\n",
    "        new_im.paste(im, (j,0))\n",
    "        j=j+1400\n",
    "\n",
    "    new_im.save('figures/ALEX_BVA_%s/ALEX_BVA_%s.png' % (label,label), bbox_inches='tight')\n",
    "    display(new_im)"
   ]
  }
 ],
 "metadata": {
  "kernelspec": {
   "display_name": "Python 3",
   "language": "python",
   "name": "python3"
  },
  "language_info": {
   "codemirror_mode": {
    "name": "ipython",
    "version": 3
   },
   "file_extension": ".py",
   "mimetype": "text/x-python",
   "name": "python",
   "nbconvert_exporter": "python",
   "pygments_lexer": "ipython3",
   "version": "3.5.1"
  }
 },
 "nbformat": 4,
 "nbformat_minor": 0
}
