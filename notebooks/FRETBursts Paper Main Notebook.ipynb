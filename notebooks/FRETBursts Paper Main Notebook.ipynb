{
 "cells": [
  {
   "cell_type": "markdown",
   "metadata": {},
   "source": [
    "# FRETBursts Paper Main Notebook\n",
    "\n",
    "*This the **main notebook** for reproducing code examples and figures for the paper:*\n",
    "\n",
    "<br>\n",
    "<div class=\"alert alert-success\">\n",
    "**FRETBursts: Open Source Burst Analysis Toolkit for Confocal Single-Molecule FRET**<br>\n",
    "Ingargiola et al. (2016). biorXiv doi:[10.1101/039198](http://dx.doi.org/10.1101/039198)\n",
    "</div>"
   ]
  },
  {
   "cell_type": "markdown",
   "metadata": {},
   "source": [
    "# 0. Initializations\n",
    "\n",
    "## Loading the software\n",
    "\n",
    "Load software and define default figure style."
   ]
  },
  {
   "cell_type": "code",
   "execution_count": null,
   "metadata": {
    "collapsed": false
   },
   "outputs": [],
   "source": [
    "from fretbursts import *\n",
    "import phconvert as phc\n",
    "print('phconvert: ', phc.__version__)"
   ]
  },
  {
   "cell_type": "code",
   "execution_count": null,
   "metadata": {
    "collapsed": false
   },
   "outputs": [],
   "source": [
    "sns = init_notebook(fs=13, savefig_dpi=75)"
   ]
  },
  {
   "cell_type": "code",
   "execution_count": null,
   "metadata": {
    "collapsed": false
   },
   "outputs": [],
   "source": [
    "figure_size = (5, 4)\n",
    "default_figure = lambda: plt.subplots(figsize=figure_size)\n",
    "save_figures = True\n",
    "\n",
    "def savefig(filename, **kwargs):\n",
    "    if not save_figures:\n",
    "        return\n",
    "    import os\n",
    "    name, extension = os.path.splitext(os.path.basename(filename))\n",
    "    dir_ = '../figures/%s/' % name\n",
    "    kwargs_ = dict(dpi=150, bbox_inches='tight', \n",
    "                   frameon=True, facecolor='white', transparent=False)\n",
    "    kwargs_.update(kwargs)\n",
    "    plt.savefig(dir_ + name + extension, **kwargs_)"
   ]
  },
  {
   "cell_type": "markdown",
   "metadata": {},
   "source": [
    "## Getting the data\n",
    "\n",
    "Download the data file."
   ]
  },
  {
   "cell_type": "code",
   "execution_count": null,
   "metadata": {
    "collapsed": false
   },
   "outputs": [],
   "source": [
    "url = 'http://files.figshare.com/2182601/0023uLRpitc_NTP_20dT_0.5GndCl.hdf5'\n",
    "download_file(url, save_dir='./data')"
   ]
  },
  {
   "cell_type": "code",
   "execution_count": null,
   "metadata": {
    "collapsed": false
   },
   "outputs": [],
   "source": [
    "filename = './data/' + url.split('/')[-1]\n",
    "filename"
   ]
  },
  {
   "cell_type": "markdown",
   "metadata": {},
   "source": [
    "# Section 1. Introduction\n",
    "\n",
    "No code for this section.\n",
    "\n",
    "# Section 2. FRETBursts Overview\n",
    "\n",
    "No code for this section.\n",
    "\n",
    "# Section 3. Architecture and Concepts\n",
    "\n",
    "## 3.1 Photon Streams\n",
    "\n",
    "No code of figures in this section.\n",
    "\n",
    "## 3.2 Background Definitions\n",
    "\n",
    "To reproduce **Fig. 2 & 3** see the notebook:\n",
    "\n",
    "- [Figures - Background plots](Figures - Background plots.ipynb)\n",
    "\n",
    "## 3.3 The Data Class\n",
    "\n",
    "No code for this section.\n",
    "\n",
    "## 3.4 Introduction to Burst Search\n",
    "\n",
    "No code for this section.\n",
    "\n",
    "## 3.5 γ-corrected Burst Sizes and Weights\n",
    "\n",
    "No code for this section.\n",
    "\n",
    "## 3.6 Plotting Data\n",
    "\n",
    "This section of the paper describes the general syntax for plotting in FRETBursts.\n",
    "For practical reasons (i.e. we need to load the data first),\n",
    "these plot examples are reproduced later in this notebook.\n",
    "\n",
    "To avoid errors, it is recommended \n",
    "to run the notebook sequentially, without jumping section."
   ]
  },
  {
   "cell_type": "markdown",
   "metadata": {},
   "source": [
    "# Section 4. smFRET Burst Analysis\n",
    "\n",
    "## 4.1 Loading the Data"
   ]
  },
  {
   "cell_type": "code",
   "execution_count": null,
   "metadata": {
    "collapsed": false
   },
   "outputs": [],
   "source": [
    "d = loader.photon_hdf5(filename)"
   ]
  },
  {
   "cell_type": "markdown",
   "metadata": {},
   "source": [
    "## 4.2 Alternation Parameters"
   ]
  },
  {
   "cell_type": "code",
   "execution_count": null,
   "metadata": {
    "collapsed": true
   },
   "outputs": [],
   "source": [
    "d.add(D_ON=(2100, 3900), A_ON=(100, 1900))"
   ]
  },
  {
   "cell_type": "code",
   "execution_count": null,
   "metadata": {
    "collapsed": false
   },
   "outputs": [],
   "source": [
    "bpl.plot_alternation_hist(d)"
   ]
  },
  {
   "cell_type": "code",
   "execution_count": null,
   "metadata": {
    "collapsed": false
   },
   "outputs": [],
   "source": [
    "loader.usalex_apply_period(d)"
   ]
  },
  {
   "cell_type": "markdown",
   "metadata": {},
   "source": [
    "For reproducing the alternation figure (**Fig. 1**) see the notebook:\n",
    "\n",
    "- [Figures - ALEX histograms](Figures - ALEX histograms.ipynb)\n",
    "\n",
    "For additional information, see the *μs-ALEX parameters* section in FRETBursts notebook:\n",
    "\n",
    "- [FRETBursts - us-ALEX smFRET burst analysis](http://nbviewer.ipython.org/urls/raw.github.com/tritemio/FRETBursts_notebooks/master/notebooks/FRETBursts%2520-%2520us-ALEX%2520smFRET%2520burst%2520analysis.ipynb)"
   ]
  },
  {
   "cell_type": "markdown",
   "metadata": {},
   "source": [
    "## Plot examples from section 3.6\n",
    "\n",
    "In this sections there are some examples on how to make plot with FRETBursts.\n",
    "\n",
    "To plot a timetrace of the measurement we use:"
   ]
  },
  {
   "cell_type": "code",
   "execution_count": null,
   "metadata": {
    "collapsed": false
   },
   "outputs": [],
   "source": [
    "dplot(d, timetrace);"
   ]
  },
  {
   "cell_type": "markdown",
   "metadata": {},
   "source": [
    "Here, `dplot` is a generic wrapper (the same for all plots)\n",
    "that takes care of setting up the figure, title and axis \n",
    "(in the multispot case `dplot` creates multi-panel plot).\n",
    "The second argument, `timetrace`, is the actual plot function. \n",
    "All the eventual additional arguments passed to `dplot` are, \n",
    "in turn, passed to the plot function (e.g. `timetrace`).\n",
    "\n",
    "If we look at the documentation for [`timetrace`](http://fretbursts.readthedocs.org/en/latest/plots.html#fretbursts.burst_plot.timetrace)\n",
    "function we notice that it accepts a long list of arguments.\n",
    "In python, when an argument is not specified, it will take the default\n",
    "value specified in the function definition (see previus link).\n",
    "\n",
    "As an example, to change the bin size (i.e. duration) of the timetrace histogram,\n",
    "we can look up in the [`timetrace` documentation](http://fretbursts.readthedocs.org/en/latest/plots.html#fretbursts.burst_plot.timetrace)\n",
    "and find that the argument we need to modify is `binwidth`\n",
    "(we can also see that the default value is `0.001` seconds).\n",
    "We can then re-plot the timetrace using a bin of 0.5 ms:"
   ]
  },
  {
   "cell_type": "code",
   "execution_count": null,
   "metadata": {
    "collapsed": false
   },
   "outputs": [],
   "source": [
    "dplot(d, timetrace, binwidth=0.5e-3);"
   ]
  },
  {
   "cell_type": "markdown",
   "metadata": {},
   "source": [
    "> ### See also:\n",
    ">\n",
    "> - [bpl.timetrace](http://fretbursts.readthedocs.org/en/latest/plots.html#fretbursts.burst_plot.timetrace)\n",
    ">    function documentation\n",
    "> - [bpl.ratetrace](http://fretbursts.readthedocs.org/en/latest/plots.html#fretbursts.burst_plot.ratetrace)\n",
    ">   function documentation\n",
    "> - [Plotting basics](http://nbviewer.jupyter.org/github/tritemio/FRETBursts_notebooks/blob/master/notebooks/FRETBursts%20-%20us-ALEX%20smFRET%20burst%20analysis.ipynb#Plotting-basics) in FRETBursts us-ALEX tutorial."
   ]
  },
  {
   "cell_type": "markdown",
   "metadata": {},
   "source": [
    "## 4.3 Background Estimation"
   ]
  },
  {
   "cell_type": "markdown",
   "metadata": {},
   "source": [
    "Background estimation using a threshold of 2ms and a background period of 30s:"
   ]
  },
  {
   "cell_type": "code",
   "execution_count": null,
   "metadata": {
    "collapsed": false
   },
   "outputs": [],
   "source": [
    "d.calc_bg(bg.exp_fit, time_s=30, tail_min_us=2000)"
   ]
  },
  {
   "cell_type": "markdown",
   "metadata": {},
   "source": [
    "Background estimation automatic threshold and a background period of 20s:"
   ]
  },
  {
   "cell_type": "code",
   "execution_count": null,
   "metadata": {
    "collapsed": false
   },
   "outputs": [],
   "source": [
    "d.calc_bg(bg.exp_fit, time_s=20, tail_min_us='auto', F_bg=1.7)"
   ]
  },
  {
   "cell_type": "markdown",
   "metadata": {},
   "source": [
    "> For more info see [Background estimation](http://nbviewer.jupyter.org/github/tritemio/FRETBursts_notebooks/blob/master/notebooks/FRETBursts%20-%20us-ALEX%20smFRET%20burst%20analysis.ipynb#Background-estimation) section in the us-ALEX tutorial."
   ]
  },
  {
   "cell_type": "code",
   "execution_count": null,
   "metadata": {
    "collapsed": false,
    "scrolled": true
   },
   "outputs": [],
   "source": [
    "dplot(d, hist_bg, period=0);"
   ]
  },
  {
   "cell_type": "code",
   "execution_count": null,
   "metadata": {
    "collapsed": false,
    "scrolled": true
   },
   "outputs": [],
   "source": [
    "dplot(d, timetrace_bg);"
   ]
  },
  {
   "cell_type": "markdown",
   "metadata": {},
   "source": [
    "## 4.4 Burst Search\n",
    "\n",
    "### 4.4.1 Burst Search in FRETBursts"
   ]
  },
  {
   "cell_type": "markdown",
   "metadata": {},
   "source": [
    "This is a sliding-window burst search using all-photons stream,\n",
    "m=10 photons to compute the rate, and a threshold for burst\n",
    "start 6 times larger (`F`) than the local background rate:"
   ]
  },
  {
   "cell_type": "code",
   "execution_count": null,
   "metadata": {
    "collapsed": false
   },
   "outputs": [],
   "source": [
    "d.burst_search(F=6, m=10, ph_sel=Ph_sel('all'))"
   ]
  },
  {
   "cell_type": "markdown",
   "metadata": {},
   "source": [
    "In the next example, we fix the burst search rate threshold to a constant value of 50kcps:"
   ]
  },
  {
   "cell_type": "code",
   "execution_count": null,
   "metadata": {
    "collapsed": false
   },
   "outputs": [],
   "source": [
    "d.burst_search(min_rate_cps=50e3, m=10, ph_sel=Ph_sel('all'))"
   ]
  },
  {
   "cell_type": "markdown",
   "metadata": {},
   "source": [
    "Here, we perform a dual-channel burst search (DCBS):"
   ]
  },
  {
   "cell_type": "code",
   "execution_count": null,
   "metadata": {
    "collapsed": false
   },
   "outputs": [],
   "source": [
    "d_dcbs = bext.burst_search_and_gate(d, F=6, m=10)"
   ]
  },
  {
   "cell_type": "markdown",
   "metadata": {},
   "source": [
    "> ### Related documentation:\n",
    ">\n",
    "> - [Data.burst_search](http://fretbursts.readthedocs.org/en/latest/data_class.html?highlight=burst_search#fretbursts.burstlib.Data.burst_search)\n",
    "> - [bext.burst_search_and_gate](http://fretbursts.readthedocs.org/en/latest/plugins.html?highlight=burst_search_and_gate#fretbursts.burstlib_ext.burst_search_and_gate)"
   ]
  },
  {
   "cell_type": "markdown",
   "metadata": {},
   "source": [
    "Here, we re-perform the initial burst search:"
   ]
  },
  {
   "cell_type": "code",
   "execution_count": null,
   "metadata": {
    "collapsed": false
   },
   "outputs": [],
   "source": [
    "d.burst_search(F=6, m=10, ph_sel=Ph_sel('all'))"
   ]
  },
  {
   "cell_type": "markdown",
   "metadata": {},
   "source": [
    "### 4.4.2 Correction Coefficients\n",
    "\n",
    "At any time during the analysis, setting the correction coefficients \n",
    "will automatically correct and update all the burst data:"
   ]
  },
  {
   "cell_type": "code",
   "execution_count": null,
   "metadata": {
    "collapsed": false
   },
   "outputs": [],
   "source": [
    "d.gamma = 0.85\n",
    "d.leakage = 0.04\n",
    "d.dir_ex = 0.08"
   ]
  },
  {
   "cell_type": "markdown",
   "metadata": {},
   "source": [
    "## 4.5 Burst Selection\n",
    "\n",
    "Select bursts with at least 30 photons in Dex stream:"
   ]
  },
  {
   "cell_type": "code",
   "execution_count": null,
   "metadata": {
    "collapsed": true
   },
   "outputs": [],
   "source": [
    "ds = d.select_bursts(select_bursts.size, th1=30)"
   ]
  },
  {
   "cell_type": "markdown",
   "metadata": {},
   "source": [
    "Select bursts with *E* in the range $[0, 0.5]$ range and *S* in the range $[0.2, 0.8]$:"
   ]
  },
  {
   "cell_type": "code",
   "execution_count": null,
   "metadata": {
    "collapsed": true
   },
   "outputs": [],
   "source": [
    "ds = d.select_bursts(select_bursts.ES, E1=0, E2=0.5, S1=0.2, S2=0.8)"
   ]
  },
  {
   "cell_type": "markdown",
   "metadata": {},
   "source": [
    "Select bursts with duration between 0.5 and 2 milliseconds:"
   ]
  },
  {
   "cell_type": "code",
   "execution_count": null,
   "metadata": {
    "collapsed": true
   },
   "outputs": [],
   "source": [
    "ds = d.select_bursts(select_bursts.width, th1=0.5, th2=2)"
   ]
  },
  {
   "cell_type": "markdown",
   "metadata": {},
   "source": [
    "Example of burst selection combining two criteria (burst size and duration):"
   ]
  },
  {
   "cell_type": "code",
   "execution_count": null,
   "metadata": {
    "collapsed": true
   },
   "outputs": [],
   "source": [
    "ds = d.select_bursts(select_bursts.size, th1=50, th2=200)\n",
    "dsw = ds.select_bursts(select_bursts.width, th1=0.5e-3, th2=3e-3)"
   ]
  },
  {
   "cell_type": "markdown",
   "metadata": {},
   "source": [
    "### 4.5.1 Burst Size Selection\n",
    "\n",
    "Select bursts with size of at least 30, counting both Dex and Aex photons:"
   ]
  },
  {
   "cell_type": "code",
   "execution_count": null,
   "metadata": {
    "collapsed": true
   },
   "outputs": [],
   "source": [
    "ds = d.select_bursts(select_bursts.size, th1=30, add_naa=True)"
   ]
  },
  {
   "cell_type": "markdown",
   "metadata": {},
   "source": [
    "Select bursts with size of at least 15 using only Dex photons. \n",
    "The size is computed as:\n",
    "\n",
    "$$ n_t = \\gamma n_d + n_a $$"
   ]
  },
  {
   "cell_type": "code",
   "execution_count": null,
   "metadata": {
    "collapsed": true
   },
   "outputs": [],
   "source": [
    "ds = d.select_bursts(select_bursts.size, th1=15, gamma=0.65)"
   ]
  },
  {
   "cell_type": "markdown",
   "metadata": {},
   "source": [
    "Finally, to get the arry of burst sizes (optionally adding `naa`) and applying\n",
    "corrections we use"
   ]
  },
  {
   "cell_type": "code",
   "execution_count": null,
   "metadata": {
    "collapsed": false
   },
   "outputs": [],
   "source": [
    "ds.burst_sizes()"
   ]
  },
  {
   "cell_type": "markdown",
   "metadata": {},
   "source": [
    "> ### Related documentation:\n",
    ">\n",
    "> - [select_bursts.size](http://fretbursts.readthedocs.org/en/latest/burst_selection.html#fretbursts.select_bursts.size)\n",
    "> - [Data.burst_sizes](http://fretbursts.readthedocs.org/en/latest/data_class.html#fretbursts.burstlib.Data.burst_sizes)\n",
    "> - [Data.burst_sizes_ich](http://fretbursts.readthedocs.org/en/latest/data_class.html#fretbursts.burstlib.Data.burst_sizes_ich)"
   ]
  },
  {
   "cell_type": "markdown",
   "metadata": {},
   "source": [
    "### 4.5.2 Select the FRET Populations\n",
    "\n",
    "A convenient way to select the FRET populuation is applying two filters.\n",
    "The first, selecting bursts sizes (using Dex photons) larger than a threshold.\n",
    "The second, selection bursts with `naa` (counts in the AexAem stream)\n",
    "larger than a threshold:"
   ]
  },
  {
   "cell_type": "code",
   "execution_count": null,
   "metadata": {
    "collapsed": false
   },
   "outputs": [],
   "source": [
    "ds1 = d.select_bursts(select_bursts.size, th1=15)\n",
    "ds2 = ds1.select_bursts(select_bursts.naa, th1=15)"
   ]
  },
  {
   "cell_type": "code",
   "execution_count": null,
   "metadata": {
    "collapsed": false
   },
   "outputs": [],
   "source": [
    "dds1 = d_dcbs.select_bursts(select_bursts.size, th1=15)\n",
    "dds2 = dds1.select_bursts(select_bursts.naa, th1=15)"
   ]
  },
  {
   "cell_type": "markdown",
   "metadata": {},
   "source": [
    "The result of this filter (`ds2`) can be compared with a\n",
    "single burst size filter using all-photons (`ds`) in the plots below:"
   ]
  },
  {
   "cell_type": "code",
   "execution_count": null,
   "metadata": {
    "collapsed": false
   },
   "outputs": [],
   "source": [
    "alex_jointplot(ds)\n",
    "alex_jointplot(ds2);\n",
    "alex_jointplot(dds2);"
   ]
  },
  {
   "cell_type": "markdown",
   "metadata": {},
   "source": [
    "## 4.6 Population Analysis"
   ]
  },
  {
   "cell_type": "code",
   "execution_count": null,
   "metadata": {
    "collapsed": false
   },
   "outputs": [],
   "source": [
    "bext.bursts_fitter(ds2, 'E', binwidth=0.03,\n",
    "                   model=mfit.factory_two_gaussians());"
   ]
  },
  {
   "cell_type": "code",
   "execution_count": null,
   "metadata": {
    "collapsed": false
   },
   "outputs": [],
   "source": [
    "fit_res = ds2.E_fitter.fit_res[0]\n",
    "print(fit_res.fit_report())"
   ]
  },
  {
   "cell_type": "code",
   "execution_count": null,
   "metadata": {
    "collapsed": false
   },
   "outputs": [],
   "source": [
    "dplot(ds2, hist_fret, show_model=True);"
   ]
  },
  {
   "cell_type": "markdown",
   "metadata": {},
   "source": [
    "The reduced $\\chi^2$ can be obtained as follows:"
   ]
  },
  {
   "cell_type": "code",
   "execution_count": null,
   "metadata": {
    "collapsed": false
   },
   "outputs": [],
   "source": [
    "ds2.E_fitter.fit_res[0].redchi"
   ]
  },
  {
   "cell_type": "markdown",
   "metadata": {},
   "source": [
    "Finally, to reproduce **Fig. 6**, we replot the previous histogram tweaking the style:"
   ]
  },
  {
   "cell_type": "code",
   "execution_count": null,
   "metadata": {
    "collapsed": true
   },
   "outputs": [],
   "source": [
    "dds1 = d_dcbs.select_bursts(select_bursts.size, th1=30)\n",
    "dds2 = dds1.select_bursts(select_bursts.naa, th1=15)"
   ]
  },
  {
   "cell_type": "code",
   "execution_count": null,
   "metadata": {
    "collapsed": false
   },
   "outputs": [],
   "source": [
    "bext.bursts_fitter(dds2, 'E', binwidth=0.03,\n",
    "                   model=mfit.factory_two_gaussians());"
   ]
  },
  {
   "cell_type": "code",
   "execution_count": null,
   "metadata": {
    "collapsed": false
   },
   "outputs": [],
   "source": [
    "fig, ax = default_figure()\n",
    "\n",
    "cmap = 'Blues' #'Spectral_r'\n",
    "c = sns.color_palette(cmap, 12)[-5]\n",
    "\n",
    "dplot(dds2, hist_fret, show_model=True, ax=ax, \n",
    "      hist_bar_style=dict(facecolor=c, edgecolor='k', linewidth=0.3))\n",
    "ax.set_title('')\n",
    "ax.set_xlim(0, 1.1)\n",
    "savefig('hist_fit')"
   ]
  },
  {
   "cell_type": "markdown",
   "metadata": {},
   "source": [
    "# 5 Implementing Burst Variance Analysis\n",
    "\n",
    "For this section of the paper see the dedicated notebook:\n",
    "\n",
    "- [Figures - Burst Variance Analysis](Figures - Burst Variance Analysis.ipynb)"
   ]
  },
  {
   "cell_type": "code",
   "execution_count": null,
   "metadata": {
    "collapsed": true
   },
   "outputs": [],
   "source": []
  }
 ],
 "metadata": {
  "kernelspec": {
   "display_name": "Python 3",
   "language": "python",
   "name": "python3"
  },
  "language_info": {
   "codemirror_mode": {
    "name": "ipython",
    "version": 3
   },
   "file_extension": ".py",
   "mimetype": "text/x-python",
   "name": "python",
   "nbconvert_exporter": "python",
   "pygments_lexer": "ipython3",
   "version": "3.5.1"
  }
 },
 "nbformat": 4,
 "nbformat_minor": 0
}
