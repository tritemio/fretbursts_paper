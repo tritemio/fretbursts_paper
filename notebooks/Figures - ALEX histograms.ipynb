{
 "cells": [
  {
   "cell_type": "markdown",
   "metadata": {},
   "source": [
    "# Alternation Histograms Figures for FRETBursts Paper\n",
    "\n",
    "*This notebook generates the alternation histogram figures for the paper:*\n",
    "\n",
    "<br>\n",
    "<div class=\"alert alert-success\">\n",
    "<b>FRETBursts: Open Source Burst Analysis Toolkit for Confocal Single-Molecule FRET</b><br>\n",
    "Ingargiola et al. (2016). biorXiv doi:<a href=\"http://dx.doi.org/10.1101/039198\" target=\"_blank\">10.1101/039198</a>\n",
    "</div>\n",
    "\n",
    "> The main notebook is: [FRETBursts Paper Main Notebook](FRETBursts Paper Main Notebook.ipynb)"
   ]
  },
  {
   "cell_type": "markdown",
   "metadata": {},
   "source": [
    "# Loading software\n",
    "\n",
    "Load software and define default figure style."
   ]
  },
  {
   "cell_type": "code",
   "execution_count": null,
   "metadata": {
    "collapsed": false
   },
   "outputs": [],
   "source": [
    "from fretbursts import *"
   ]
  },
  {
   "cell_type": "code",
   "execution_count": null,
   "metadata": {
    "collapsed": false
   },
   "outputs": [],
   "source": [
    "sns = init_notebook(fs=13, savefig_dpi=75)"
   ]
  },
  {
   "cell_type": "code",
   "execution_count": null,
   "metadata": {
    "collapsed": false
   },
   "outputs": [],
   "source": [
    "figure_size = (5, 4)\n",
    "default_figure = lambda: plt.subplots(figsize=figure_size)\n",
    "save_figures = True\n",
    "\n",
    "def savefig(filename, **kwargs):\n",
    "    if not save_figures:\n",
    "        return\n",
    "    import os\n",
    "    name, extension = os.path.splitext(os.path.basename(filename))\n",
    "    dir_ = '../figures/%s/' % name\n",
    "    kwargs_ = dict(dpi=150, bbox_inches='tight', \n",
    "                   frameon=True, facecolor='white', transparent=False)\n",
    "    kwargs_.update(kwargs)\n",
    "    plt.savefig(dir_ + name + extension, **kwargs_)"
   ]
  },
  {
   "cell_type": "markdown",
   "metadata": {},
   "source": [
    "# Getting the data\n",
    "\n",
    "Download the data files."
   ]
  },
  {
   "cell_type": "code",
   "execution_count": null,
   "metadata": {
    "collapsed": false
   },
   "outputs": [],
   "source": [
    "url = 'http://files.figshare.com/2182601/0023uLRpitc_NTP_20dT_0.5GndCl.hdf5'\n",
    "download_file(url, save_dir='./data')"
   ]
  },
  {
   "cell_type": "code",
   "execution_count": null,
   "metadata": {
    "collapsed": false
   },
   "outputs": [],
   "source": [
    "filename = './data/' + url.split('/')[-1]\n",
    "filename"
   ]
  },
  {
   "cell_type": "code",
   "execution_count": null,
   "metadata": {
    "collapsed": false
   },
   "outputs": [],
   "source": [
    "url2 = 'http://files.figshare.com/2182602/dsdna_d7_d17_50_50_1.hdf5'\n",
    "download_file(url2, save_dir='./data')"
   ]
  },
  {
   "cell_type": "code",
   "execution_count": null,
   "metadata": {
    "collapsed": false
   },
   "outputs": [],
   "source": [
    "filename2 = './data/' + url2.split('/')[-1]\n",
    "filename2"
   ]
  },
  {
   "cell_type": "markdown",
   "metadata": {},
   "source": [
    "# Loading the data"
   ]
  },
  {
   "cell_type": "code",
   "execution_count": null,
   "metadata": {
    "collapsed": false
   },
   "outputs": [],
   "source": [
    "d = loader.photon_hdf5(filename)\n",
    "d2 = loader.photon_hdf5(filename2)"
   ]
  },
  {
   "cell_type": "markdown",
   "metadata": {},
   "source": [
    "# ALEX Histogram"
   ]
  },
  {
   "cell_type": "code",
   "execution_count": null,
   "metadata": {
    "collapsed": false
   },
   "outputs": [],
   "source": [
    "fig, ax = default_figure()\n",
    "bpl.plot_alternation_hist(d, ax=ax)\n",
    "plt.legend(bbox_to_anchor=(-0.04, 1.15), loc='upper left', ncol=2, fontsize=12)\n",
    "plt.title('')\n",
    "sns.despine()"
   ]
  },
  {
   "cell_type": "code",
   "execution_count": null,
   "metadata": {
    "collapsed": false
   },
   "outputs": [],
   "source": [
    "fig, ax = default_figure()\n",
    "bpl.plot_alternation_hist(d2, ax=ax)\n",
    "plt.legend(bbox_to_anchor=(-0.04, 1.15), loc='upper left', ncol=2, fontsize=12)\n",
    "plt.title('')\n",
    "sns.despine()"
   ]
  },
  {
   "cell_type": "code",
   "execution_count": null,
   "metadata": {
    "collapsed": false
   },
   "outputs": [],
   "source": [
    "fig, ax = plt.subplots(1, 2, figsize=(11, 4))\n",
    "bpl.plot_alternation_hist(d, ax=ax[0])\n",
    "ax[0].legend(bbox_to_anchor=(-0.04, 1.15), loc='upper left', ncol=2, fontsize=12)\n",
    "ax[0].set_title('')\n",
    "ax[0].set_ylabel('# Photons')\n",
    "\n",
    "bpl.plot_alternation_hist(d2, ax=ax[1])\n",
    "ax[1].legend(bbox_to_anchor=(-0.04, 1.15), loc='upper left', ncol=2, fontsize=12)\n",
    "ax[1].set_title('')\n",
    "for a, label in zip(ax, ['a', 'b']):\n",
    "    a.set_xticks(np.arange(0, 4500, 1000))\n",
    "    a.text(0.5, -0.26, '(%s)' % label, transform=a.transAxes, fontsize=16,\n",
    "           horizontalalignment='center',)\n",
    "\n",
    "savefig('ALEX_alternation_double.png')"
   ]
  },
  {
   "cell_type": "code",
   "execution_count": null,
   "metadata": {
    "collapsed": true
   },
   "outputs": [],
   "source": []
  }
 ],
 "metadata": {
  "kernelspec": {
   "display_name": "Python 3",
   "language": "python",
   "name": "python3"
  },
  "language_info": {
   "codemirror_mode": {
    "name": "ipython",
    "version": 3
   },
   "file_extension": ".py",
   "mimetype": "text/x-python",
   "name": "python",
   "nbconvert_exporter": "python",
   "pygments_lexer": "ipython3",
   "version": "3.5.1"
  }
 },
 "nbformat": 4,
 "nbformat_minor": 0
}
