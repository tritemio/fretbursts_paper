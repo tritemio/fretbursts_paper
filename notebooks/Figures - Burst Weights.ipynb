{
 "cells": [
  {
   "cell_type": "markdown",
   "metadata": {},
   "source": [
    "# Burst Weights\n",
    "\n",
    "*This notebook generates plots for burst weights section of the paper:*\n",
    "\n",
    "<br>\n",
    "<div class=\"alert alert-success\">\n",
    "<b>FRETBursts: Open Source Burst Analysis Toolkit for Confocal Single-Molecule FRET</b><br>\n",
    "Ingargiola et al. (2016). biorXiv doi:[10.1101/039198](http://dx.doi.org/10.1101/039198)\n",
    "</div>\n",
    "\n",
    "> The main notebook is: [FRETBursts Paper Main Notebook](FRETBursts Paper Main Notebook.ipynb)"
   ]
  },
  {
   "cell_type": "markdown",
   "metadata": {},
   "source": [
    "# Loading software\n",
    "\n",
    "Load software and define default figure style."
   ]
  },
  {
   "cell_type": "code",
   "execution_count": null,
   "metadata": {
    "collapsed": false
   },
   "outputs": [],
   "source": [
    "from fretbursts import *"
   ]
  },
  {
   "cell_type": "code",
   "execution_count": null,
   "metadata": {
    "collapsed": false
   },
   "outputs": [],
   "source": [
    "from matplotlib.patches import Polygon\n",
    "from scipy.stats import binom, expon, gamma, poisson"
   ]
  },
  {
   "cell_type": "code",
   "execution_count": null,
   "metadata": {
    "collapsed": true
   },
   "outputs": [],
   "source": [
    "sns = init_notebook(seaborn_style='ticks')"
   ]
  },
  {
   "cell_type": "code",
   "execution_count": null,
   "metadata": {
    "collapsed": false
   },
   "outputs": [],
   "source": [
    "figure_size = (5, 4)\n",
    "default_figure = lambda: plt.subplots(figsize=figure_size)\n",
    "save_figures = True\n",
    "\n",
    "def savefig(filename, **kwargs):\n",
    "    if not save_figures:\n",
    "        return\n",
    "    import os\n",
    "    name, extension = os.path.splitext(os.path.basename(filename))\n",
    "    dir_ = '../figures/%s/' % name\n",
    "    kwargs_ = dict(dpi=150, bbox_inches='tight', \n",
    "                   frameon=True, facecolor='white', transparent=False)\n",
    "    kwargs_.update(kwargs)\n",
    "    plt.savefig(dir_ + name + extension, **kwargs_)"
   ]
  },
  {
   "cell_type": "markdown",
   "metadata": {},
   "source": [
    "# 1. Estimators Variance\n",
    "\n",
    "Following the discussion in section SI-8.6, here we compare empirically \n",
    "the performances for weighted and unweighted estimators ($\\hat{E}_{uw}$ and $\\hat{E}_{w}$)\n",
    "of a static FRET population PR $E_p$:\n",
    "\n",
    "$$\\hat{E}_{uw} = \\frac{1}{N} \\sum_i E_i$$\n",
    "\n",
    "$$\\hat{E}_w = \\frac{1}{N} \\sum_i w_i E_i\n",
    "= \\frac{1}{N} \\frac{\\sum_i n_{ai}}{\\sum_i n_{ti}} \\quad\\textrm{with}\\quad\n",
    "w_i = \\frac{n_{ti}}{\\sum_i n_{ti}}$$\n",
    "\n",
    "For this purpose, we generated a static FRET population of N=200 bursts \n",
    "by extracting burst-sizes from an exponential distribution ($\\lambda = 50$)\n",
    "and acceptor counts from a binomial distribution ($E_p = 0.2$). \n",
    "\n",
    "By repeatedly (`ntrials = 2000`) fitting the population parameter $E_p$ \n",
    "we can build the distribution of the two estimators and verify that,\n",
    "as predicted by theory, the size-weighted estimator ($\\hat{E}_w$ )has lower\n",
    "variance than the unweighted one ($\\hat{E}_{uw}$).\n",
    "\n",
    "We start by definig the function to generate bursts:"
   ]
  },
  {
   "cell_type": "code",
   "execution_count": null,
   "metadata": {
    "collapsed": true
   },
   "outputs": [],
   "source": [
    "def gen_burst_counts_exp(E_p, num_bursts, mean):\n",
    "    min_burst_size = 3\n",
    "    nt = (min_burst_size + expon.rvs(scale=mean, size=num_bursts)).astype(int)\n",
    "    na = binom.rvs(nt, E_p)\n",
    "    nd = nt - na\n",
    "    return nd, na"
   ]
  },
  {
   "cell_type": "code",
   "execution_count": null,
   "metadata": {
    "collapsed": false
   },
   "outputs": [],
   "source": [
    "E_p = 0.2\n",
    "N = 100\n",
    "ntrials = 5000\n",
    "mean_burst_size = 10\n",
    "\n",
    "np.random.seed(54321)\n",
    "nd, na = gen_burst_counts_exp(E_p, num_bursts=N*ntrials, mean=mean_burst_size)\n",
    "nd = nd.reshape(ntrials, N)\n",
    "na = na.reshape(ntrials, N)\n",
    "nt = na + nd\n",
    "EE = na / nt"
   ]
  },
  {
   "cell_type": "code",
   "execution_count": null,
   "metadata": {
    "collapsed": false
   },
   "outputs": [],
   "source": [
    "EE.shape"
   ]
  },
  {
   "cell_type": "code",
   "execution_count": null,
   "metadata": {
    "collapsed": false
   },
   "outputs": [],
   "source": [
    "print('Empirical mean burst size: ', (nd + na).ravel().mean())\n",
    "plt.hist((nd + na).ravel(), bins=40, histtype='step', lw=1.5, );"
   ]
  },
  {
   "cell_type": "code",
   "execution_count": null,
   "metadata": {
    "collapsed": false
   },
   "outputs": [],
   "source": [
    "bins = np.arange(-0.075, 1, 0.025) - 0.025/2\n",
    "plt.hist(EE.ravel(), bins, histtype='step', color='k', lw=1.3);"
   ]
  },
  {
   "cell_type": "markdown",
   "metadata": {},
   "source": [
    "### Unweighted Estimator"
   ]
  },
  {
   "cell_type": "code",
   "execution_count": null,
   "metadata": {
    "collapsed": false
   },
   "outputs": [],
   "source": [
    "Eh = np.nanmean(EE, axis=1)\n",
    "Eh_mean, Eh_std = np.nanmean(Eh), np.nanstd(Eh)*100\n",
    "print('Unweighted E estimator')\n",
    "print('Mean = %.5f   Std.Dev. = %.4f %%' % (Eh_mean, Eh_std))"
   ]
  },
  {
   "cell_type": "markdown",
   "metadata": {},
   "source": [
    "### Weighted Estimator"
   ]
  },
  {
   "cell_type": "code",
   "execution_count": null,
   "metadata": {
    "collapsed": false
   },
   "outputs": [],
   "source": [
    "Ehw = np.nansum(EE * nt, axis=1)/ np.nansum(nt, axis=1)\n",
    "Ehw_mean, Ehw_std = np.nanmean(Ehw), np.nanstd(Ehw)*100\n",
    "print('Weighted E estimator')\n",
    "print('Mean = %.5f   Std.Dev. = %.4f %%' % (Ehw_mean, Ehw_std))"
   ]
  },
  {
   "cell_type": "code",
   "execution_count": null,
   "metadata": {
    "collapsed": false
   },
   "outputs": [],
   "source": [
    "delta = 100 * (Eh_std - Ehw_std) / Ehw_std\n",
    "print('Percentage variance increase for the unweighted estimator: %.2f %%' % delta)"
   ]
  },
  {
   "cell_type": "markdown",
   "metadata": {},
   "source": [
    "### Estimator distribution plots"
   ]
  },
  {
   "cell_type": "code",
   "execution_count": null,
   "metadata": {
    "collapsed": true
   },
   "outputs": [],
   "source": [
    "sns.set_style('ticks')"
   ]
  },
  {
   "cell_type": "code",
   "execution_count": null,
   "metadata": {
    "collapsed": false
   },
   "outputs": [],
   "source": [
    "fig, ax = default_figure()\n",
    "bins = np.arange(0, 1, 0.025) + 0.025*0.5\n",
    "kws = dict(bins=bins, histtype='step', lw=1.3, normed=True)\n",
    "_, _, (p0,) = ax.hist(EE.ravel(), color='k', **kws);\n",
    "ax.set_xlabel('E')\n",
    "\n",
    "ax2 = plt.twinx()\n",
    "ax2.grid(False)\n",
    "ebins = np.arange(0, 0.4, 0.005)\n",
    "kws.update(bins=ebins, lw=1.5)\n",
    "_, _, (p1,) = ax2.hist(Eh[np.isfinite(Eh)], **kws);\n",
    "_, _, (p2,) = ax2.hist(Ehw[np.isfinite(Ehw)], **kws);\n",
    "ax.set_xlim(0, 0.5);\n",
    "fig.legend((p0, p1, p2), \n",
    "           (r'$\\{E_i\\}$', r'$\\{\\hat{E}_{\\rm uw}\\}$', r'$\\{\\hat{E}_{\\rm w}\\}$'),\n",
    "           fontsize=16, loc='upper right');\n",
    "ax.yaxis.set_visible(False)\n",
    "ax2.yaxis.set_visible(False)\n",
    "sns.despine(fig, left=True, offset=0);"
   ]
  },
  {
   "cell_type": "code",
   "execution_count": null,
   "metadata": {
    "collapsed": false
   },
   "outputs": [],
   "source": [
    "ebins = np.arange(0, 0.4, 0.005)\n",
    "plt.hist(Eh[np.isfinite(Eh)], ebins, histtype='step', lw=1.5, label='Unweighted');\n",
    "plt.hist(Ehw[np.isfinite(Ehw)], ebins, histtype='step', lw=1.5, label='Weighted');\n",
    "plt.xlim(0.2 - 0.08, 0.2 + 0.08);\n",
    "plt.legend();\n",
    "plt.xlabel('E');"
   ]
  },
  {
   "cell_type": "markdown",
   "metadata": {},
   "source": [
    "## Gamma-distributed burst sizes"
   ]
  },
  {
   "cell_type": "markdown",
   "metadata": {},
   "source": [
    "Let's see how to call a scipy's gamma distribution:"
   ]
  },
  {
   "cell_type": "code",
   "execution_count": null,
   "metadata": {
    "collapsed": true
   },
   "outputs": [],
   "source": [
    "x = np.arange(0,300, 0.1)\n",
    "mean_ = 50\n",
    "a = 2\n",
    "y = gamma.pdf(x, a=a, scale=mean_/a)\n",
    "y2 = gamma.pdf(x, a=1, scale=mean_)  # this is an exponential"
   ]
  },
  {
   "cell_type": "code",
   "execution_count": null,
   "metadata": {
    "collapsed": false
   },
   "outputs": [],
   "source": [
    "plot(x, y)\n",
    "plot(x, y2);"
   ]
  },
  {
   "cell_type": "markdown",
   "metadata": {},
   "source": [
    "Let's perform the same simulation but with a gamma-distributed burst sizes:"
   ]
  },
  {
   "cell_type": "code",
   "execution_count": null,
   "metadata": {
    "collapsed": false
   },
   "outputs": [],
   "source": [
    "def gen_burst_counts_gamma(E_p, num_bursts, mean, a=2):\n",
    "    nt = gamma.rvs(scale=mean/a, a=a, size=num_bursts).astype(int)\n",
    "    na = binom.rvs(nt, E_p)\n",
    "    nd = nt - na\n",
    "    return nd, na"
   ]
  },
  {
   "cell_type": "code",
   "execution_count": null,
   "metadata": {
    "collapsed": false
   },
   "outputs": [],
   "source": [
    "E_p = 0.2\n",
    "N = 100\n",
    "ntrials = 5000\n",
    "mean_burst_size = 10\n",
    "\n",
    "np.random.seed(54321)\n",
    "nd, na = gen_burst_counts_gamma(E_p, num_bursts=N*ntrials, mean=mean_burst_size)\n",
    "nd = nd.reshape(ntrials, N)\n",
    "na = na.reshape(ntrials, N)\n",
    "nt = na + nd\n",
    "EE = na / nt"
   ]
  },
  {
   "cell_type": "markdown",
   "metadata": {},
   "source": [
    "### Unweighted Estimator"
   ]
  },
  {
   "cell_type": "code",
   "execution_count": null,
   "metadata": {
    "collapsed": false
   },
   "outputs": [],
   "source": [
    "Eh = np.nanmean(EE, axis=1)\n",
    "Eh.shape, np.nanmean(Eh), np.nanstd(Eh)*100\n",
    "print('Unweighted E estimator (Gamma)')\n",
    "print('Mean = %.5f   Std.Dev. = %.4f %%' % (np.nanmean(Eh), np.nanstd(Eh)*100))"
   ]
  },
  {
   "cell_type": "markdown",
   "metadata": {},
   "source": [
    "### Weighted Estimator"
   ]
  },
  {
   "cell_type": "code",
   "execution_count": null,
   "metadata": {
    "collapsed": false
   },
   "outputs": [],
   "source": [
    "Ehw = np.nansum(EE * nt, axis=1)/ np.nansum(nt, axis=1)\n",
    "print('Weighted E estimator (Gamma)')\n",
    "print('Mean = %.5f   Std.Dev. = %.4f %%' % (np.nanmean(Ehw), np.nanstd(Ehw)*100))"
   ]
  },
  {
   "cell_type": "markdown",
   "metadata": {},
   "source": [
    "### Estimator distribution plots"
   ]
  },
  {
   "cell_type": "code",
   "execution_count": null,
   "metadata": {
    "collapsed": false
   },
   "outputs": [],
   "source": [
    "fig, ax = default_figure()\n",
    "bins = np.arange(0, 1, 0.025) + 0.025*0.5\n",
    "kws = dict(bins=bins, histtype='step', lw=1.3, normed=True)\n",
    "_, _, (p0,) = ax.hist(EE.ravel(), color='k', **kws);\n",
    "ax.set_xlabel('E')\n",
    "\n",
    "ax2 = plt.twinx()\n",
    "ax2.grid(False)\n",
    "ebins = np.arange(0, 0.4, 0.005)\n",
    "kws.update(bins=ebins, lw=1.5)\n",
    "_, _, (p1,) = ax2.hist(Eh[np.isfinite(Eh)], **kws);\n",
    "_, _, (p2,) = ax2.hist(Ehw[np.isfinite(Ehw)], **kws);\n",
    "ax.set_xlim(0, 0.5);\n",
    "fig.legend((p0, p1, p2), \n",
    "           (r'$\\{E_i\\}$', r'$\\{\\hat{E}_{\\rm uw}\\}$', r'$\\{\\hat{E}_{\\rm w}\\}$'),\n",
    "           fontsize=16, loc='upper right');\n",
    "ax.yaxis.set_visible(False)\n",
    "ax2.yaxis.set_visible(False)\n",
    "sns.despine(fig, left=True, offset=0);"
   ]
  },
  {
   "cell_type": "markdown",
   "metadata": {},
   "source": [
    "# 2. FRET Histograms\n",
    "\n",
    "## Getting the data"
   ]
  },
  {
   "cell_type": "code",
   "execution_count": null,
   "metadata": {
    "collapsed": false
   },
   "outputs": [],
   "source": [
    "#url = 'http://files.figshare.com/4917046/smFRET_44f3da_P_20_s0_20_s20_D_6.0e11_6.0e11_E_75_30_EmTot_200k_200k_BgD1500_BgA800_t_max_600s.hdf5'\n",
    "#download_file(url, save_dir='./data')"
   ]
  },
  {
   "cell_type": "code",
   "execution_count": null,
   "metadata": {
    "collapsed": false
   },
   "outputs": [],
   "source": [
    "url = 'http://files.figshare.com/4917049/smFRET_44f3da_P_20_s0_20_s20_D_6.0e11_6.0e11_E_75_30_EmTot_160k_160k_BgD1500_BgA800_t_max_600s.hdf5'\n",
    "download_file(url, save_dir='./data')"
   ]
  },
  {
   "cell_type": "code",
   "execution_count": null,
   "metadata": {
    "collapsed": false
   },
   "outputs": [],
   "source": [
    "filename = './data/' + url.split('/')[-1]\n",
    "filename"
   ]
  },
  {
   "cell_type": "code",
   "execution_count": null,
   "metadata": {
    "collapsed": false
   },
   "outputs": [],
   "source": [
    "url2 = 'http://files.figshare.com/4916914/008_dsDNA_22d_500pM_green100u_red40u.hdf5'\n",
    "download_file(url2, save_dir='./data')"
   ]
  },
  {
   "cell_type": "code",
   "execution_count": null,
   "metadata": {
    "collapsed": false
   },
   "outputs": [],
   "source": [
    "filename2 = './data/' + url2.split('/')[-1]\n",
    "filename2"
   ]
  },
  {
   "cell_type": "markdown",
   "metadata": {},
   "source": [
    "## Loading the Data"
   ]
  },
  {
   "cell_type": "code",
   "execution_count": null,
   "metadata": {
    "collapsed": false
   },
   "outputs": [],
   "source": [
    "d = loader.photon_hdf5(filename)"
   ]
  },
  {
   "cell_type": "code",
   "execution_count": null,
   "metadata": {
    "collapsed": false
   },
   "outputs": [],
   "source": [
    "d2 = loader.photon_hdf5(filename2)\n",
    "loader.alex_apply_period(d2)"
   ]
  },
  {
   "cell_type": "markdown",
   "metadata": {},
   "source": [
    "## Background Estimation"
   ]
  },
  {
   "cell_type": "markdown",
   "metadata": {},
   "source": [
    "Background estimation automatic threshold and a background period of 20s:"
   ]
  },
  {
   "cell_type": "code",
   "execution_count": null,
   "metadata": {
    "collapsed": false
   },
   "outputs": [],
   "source": [
    "d.calc_bg(bg.exp_fit, time_s=40, tail_min_us='auto', F_bg=1.7)\n",
    "d2.calc_bg(bg.exp_fit, time_s=40, tail_min_us='auto', F_bg=1.7)"
   ]
  },
  {
   "cell_type": "markdown",
   "metadata": {},
   "source": [
    "> For more info see [Background estimation](http://nbviewer.jupyter.org/github/tritemio/FRETBursts_notebooks/blob/master/notebooks/FRETBursts%20-%20us-ALEX%20smFRET%20burst%20analysis.ipynb#Background-estimation) in the us-ALEX tutorial."
   ]
  },
  {
   "cell_type": "code",
   "execution_count": null,
   "metadata": {
    "collapsed": false
   },
   "outputs": [],
   "source": [
    "dplot(d, timetrace_bg);"
   ]
  },
  {
   "cell_type": "code",
   "execution_count": null,
   "metadata": {
    "collapsed": false
   },
   "outputs": [],
   "source": [
    "dplot(d2, timetrace_bg);"
   ]
  },
  {
   "cell_type": "code",
   "execution_count": null,
   "metadata": {
    "collapsed": false
   },
   "outputs": [],
   "source": [
    "d.burst_search(F=4)"
   ]
  },
  {
   "cell_type": "code",
   "execution_count": null,
   "metadata": {
    "collapsed": false
   },
   "outputs": [],
   "source": [
    "ds = d.select_bursts(select_bursts.size, th1=10)"
   ]
  },
  {
   "cell_type": "code",
   "execution_count": null,
   "metadata": {
    "collapsed": true
   },
   "outputs": [],
   "source": [
    "sns = init_notebook(fs=13, savefig_dpi=75, seaborn_style='ticks')"
   ]
  },
  {
   "cell_type": "code",
   "execution_count": null,
   "metadata": {
    "collapsed": false
   },
   "outputs": [],
   "source": [
    "fig, ax = default_figure()\n",
    "kws = dict(hist_style='step', hist_plot_style=dict(alpha=1, drawstyle='steps-mid', marker=None))\n",
    "dplot(ds, hist_fret, **kws, ax=ax)\n",
    "dplot(ds, hist_fret, weights='size', ax=ax, **kws)\n",
    "ax.set_title('');\n",
    "sns.despine()\n",
    "ax.grid(False)\n",
    "ax.legend(['Unweighted', 'Weighted'],\n",
    "          bbox_to_anchor=(0.6, 1.05), loc=2, borderaxespad=0.)\n",
    "\n",
    "savefig('weight_fret_hist_sim_mixture.png')"
   ]
  },
  {
   "cell_type": "code",
   "execution_count": null,
   "metadata": {
    "collapsed": false
   },
   "outputs": [],
   "source": [
    "d2.burst_search(F=4)"
   ]
  },
  {
   "cell_type": "code",
   "execution_count": null,
   "metadata": {
    "collapsed": false
   },
   "outputs": [],
   "source": [
    "dd2 = bext.burst_search_and_gate(d2, F=4)"
   ]
  },
  {
   "cell_type": "code",
   "execution_count": null,
   "metadata": {
    "collapsed": false
   },
   "outputs": [],
   "source": [
    "d2t = dd2.select_bursts(select_bursts.time, time_s2=600)\n",
    "ds2 = d2t.select_bursts(select_bursts.size, th1=10)\n",
    "ds2a = d2t.select_bursts(select_bursts.naa, th1=10)\n",
    "#ds2h = d2t.select_bursts(select_bursts.size, th1=20)\n",
    "#ds2ha = d2t.select_bursts(select_bursts.naa, th1=20)"
   ]
  },
  {
   "cell_type": "code",
   "execution_count": null,
   "metadata": {
    "collapsed": false
   },
   "outputs": [],
   "source": [
    "alex_jointplot(ds2)"
   ]
  },
  {
   "cell_type": "code",
   "execution_count": null,
   "metadata": {
    "collapsed": false
   },
   "outputs": [],
   "source": [
    "# 600s, DCBS, F=4, size th1 = 10\n",
    "kws = dict(hist_style='step', hist_plot_style=dict(alpha=1, drawstyle='steps-mid'))\n",
    "ax = dplot(ds2, hist_fret, **kws)\n",
    "dplot(ds2, hist_fret, weights='size', ax=ax, **kws)"
   ]
  },
  {
   "cell_type": "code",
   "execution_count": null,
   "metadata": {
    "collapsed": false
   },
   "outputs": [],
   "source": [
    "# 600s, DCBS, F=4, size th1 = 10\n",
    "fig, ax = default_figure()\n",
    "kws = dict(ax=ax, hist_style='step', \n",
    "           hist_plot_style=dict(alpha=1, linestyle='-', marker=None, drawstyle='steps-mid'))\n",
    "dplot(ds2, hist_fret, **kws)\n",
    "dplot(ds2, hist_fret, weights='size', **kws)\n",
    "sns.despine()\n",
    "ax.set_title('')\n",
    "ax.grid(False)\n",
    "ax.legend(['Unweighted', 'Weighted']);\n",
    "\n",
    "savefig('weight_fret_hist_measurement.png')"
   ]
  },
  {
   "cell_type": "markdown",
   "metadata": {},
   "source": [
    "# Note on \"alternative\" Weights\n",
    "\n",
    "It may be tempting to use weights that put even more \"weight\" on\n",
    "large-size bursts (such as size^2, size^3, etc.).\n",
    "While the use of weight proportional to burst size is grounded\n",
    "on statistical basis, other these \"alternative\" weights are arbitrary.\n",
    "\n",
    "While these weights may results in  FRET histograms with sharper peaks, \n",
    "they also place a disproportionate amount of \"weight\" in the highest bursts.\n",
    "In this case, a few high bursts may dominate the FRET histogram,\n",
    "resulting in more statistical noise (especially in the bins close to the peak)\n",
    "and a decrease in accuracy in the peak position. \n",
    "\n",
    "Empirically, FRET histograms built with these \"faster increasing\" weights \n",
    "resemble unweighed histograms obtained with high burst-size thresholds."
   ]
  },
  {
   "cell_type": "code",
   "execution_count": null,
   "metadata": {
    "collapsed": true
   },
   "outputs": [],
   "source": []
  }
 ],
 "metadata": {
  "kernelspec": {
   "display_name": "Python 3",
   "language": "python",
   "name": "python3"
  },
  "language_info": {
   "codemirror_mode": {
    "name": "ipython",
    "version": 3
   },
   "file_extension": ".py",
   "mimetype": "text/x-python",
   "name": "python",
   "nbconvert_exporter": "python",
   "pygments_lexer": "ipython3",
   "version": "3.5.1"
  }
 },
 "nbformat": 4,
 "nbformat_minor": 0
}
