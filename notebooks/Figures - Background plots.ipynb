{
 "cells": [
  {
   "cell_type": "markdown",
   "metadata": {},
   "source": [
    "# Background plots for FRETBursts paper\n",
    "\n",
    "*This notebook generates the background plots (Fig. 2 & 3) for the paper:*\n",
    "\n",
    "<br>\n",
    "<div class=\"alert alert-success\">\n",
    "<b>FRETBursts: Open Source Burst Analysis Toolkit for Confocal Single-Molecule FRET</b><br>\n",
    "Ingargiola et al. (2016). biorXiv doi:[10.1101/039198](http://dx.doi.org/10.1101/039198)\n",
    "</div>\n",
    "\n",
    "> The main notebook is: [FRETBursts Paper Main Notebook](FRETBursts Paper Main Notebook.ipynb)"
   ]
  },
  {
   "cell_type": "markdown",
   "metadata": {},
   "source": [
    "# Loading software\n",
    "\n",
    "Load software and define default figure style."
   ]
  },
  {
   "cell_type": "code",
   "execution_count": null,
   "metadata": {
    "collapsed": false
   },
   "outputs": [],
   "source": [
    "from fretbursts import *"
   ]
  },
  {
   "cell_type": "code",
   "execution_count": null,
   "metadata": {
    "collapsed": false
   },
   "outputs": [],
   "source": [
    "sns = init_notebook(fs=13, savefig_dpi=75)"
   ]
  },
  {
   "cell_type": "code",
   "execution_count": null,
   "metadata": {
    "collapsed": false
   },
   "outputs": [],
   "source": [
    "figure_size = (5, 4)\n",
    "default_figure = lambda: plt.subplots(figsize=figure_size)\n",
    "save_figures = True\n",
    "\n",
    "def savefig(filename, **kwargs):\n",
    "    if not save_figures:\n",
    "        return\n",
    "    import os\n",
    "    name, extension = os.path.splitext(os.path.basename(filename))\n",
    "    dir_ = '../figures/%s/' % name\n",
    "    kwargs_ = dict(dpi=150, bbox_inches='tight', \n",
    "                   frameon=True, facecolor='white', transparent=False)\n",
    "    kwargs_.update(kwargs)\n",
    "    plt.savefig(dir_ + name + extension, **kwargs_)"
   ]
  },
  {
   "cell_type": "markdown",
   "metadata": {},
   "source": [
    "# Getting the data"
   ]
  },
  {
   "cell_type": "code",
   "execution_count": null,
   "metadata": {
    "collapsed": false
   },
   "outputs": [],
   "source": [
    "url = 'http://files.figshare.com/2182601/0023uLRpitc_NTP_20dT_0.5GndCl.hdf5'\n",
    "download_file(url, save_dir='./data')"
   ]
  },
  {
   "cell_type": "code",
   "execution_count": null,
   "metadata": {
    "collapsed": false
   },
   "outputs": [],
   "source": [
    "filename = './data/' + url.split('/')[-1]\n",
    "filename"
   ]
  },
  {
   "cell_type": "code",
   "execution_count": null,
   "metadata": {
    "collapsed": false
   },
   "outputs": [],
   "source": [
    "url2 = 'http://files.figshare.com/4861018/004_dsDNA_17d_green100u_red40u.hdf5'\n",
    "download_file(url2, save_dir='./data')"
   ]
  },
  {
   "cell_type": "code",
   "execution_count": null,
   "metadata": {
    "collapsed": false
   },
   "outputs": [],
   "source": [
    "filename2 = './data/' + url2.split('/')[-1]\n",
    "filename2"
   ]
  },
  {
   "cell_type": "markdown",
   "metadata": {},
   "source": [
    "# Loading the Data"
   ]
  },
  {
   "cell_type": "code",
   "execution_count": null,
   "metadata": {
    "collapsed": false
   },
   "outputs": [],
   "source": [
    "d = loader.photon_hdf5(filename)\n",
    "bpl.plot_alternation_hist(d)\n",
    "loader.usalex_apply_period(d)"
   ]
  },
  {
   "cell_type": "code",
   "execution_count": null,
   "metadata": {
    "collapsed": false
   },
   "outputs": [],
   "source": [
    "dv = loader.photon_hdf5(filename2)\n",
    "bpl.plot_alternation_hist(dv)\n",
    "loader.usalex_apply_period(dv)"
   ]
  },
  {
   "cell_type": "markdown",
   "metadata": {},
   "source": [
    "## Background Estimation"
   ]
  },
  {
   "cell_type": "markdown",
   "metadata": {},
   "source": [
    "Background estimation automatic threshold and a background period of 20s:"
   ]
  },
  {
   "cell_type": "code",
   "execution_count": null,
   "metadata": {
    "collapsed": false
   },
   "outputs": [],
   "source": [
    "d.calc_bg(bg.exp_fit, time_s=20, tail_min_us='auto', F_bg=1.7)\n",
    "dv.calc_bg(bg.exp_fit, time_s=20, tail_min_us='auto', F_bg=1.7)"
   ]
  },
  {
   "cell_type": "markdown",
   "metadata": {},
   "source": [
    "> For more info see [Background estimation](http://nbviewer.jupyter.org/github/tritemio/FRETBursts_notebooks/blob/master/notebooks/FRETBursts%20-%20us-ALEX%20smFRET%20burst%20analysis.ipynb#Background-estimation) in the us-ALEX tutorial."
   ]
  },
  {
   "cell_type": "code",
   "execution_count": null,
   "metadata": {
    "collapsed": false
   },
   "outputs": [],
   "source": [
    "fig, ax = plt.subplots(1, 2, figsize=(figure_size[0]*2, figure_size[1]), sharey=True)\n",
    "\n",
    "dplot(d, hist_bg_single, tmax=20e-3, ph_sel=Ph_sel(Dex='Aem'), ax=ax[0],\n",
    "      plot_style=dict(alpha=0.8),\n",
    "      fit_style=dict(color='k'))\n",
    "ax[0].legend(['Experim. distrib.', 'Exponential fit'])\n",
    "\n",
    "dplot(d, hist_bg, ax=ax[1], \n",
    "      fit_style=dict(lw=3),\n",
    "      plot_style=dict(label=None))\n",
    "#plt.legend(bbox_to_anchor=(1.04, 0.9), loc=2, fontsize=12)\n",
    "ax[0].set_title('(a)')\n",
    "ax[1].set_title('(b)')\n",
    "savefig('ph_delays_distrib_all.png')"
   ]
  },
  {
   "cell_type": "code",
   "execution_count": null,
   "metadata": {
    "collapsed": false
   },
   "outputs": [],
   "source": [
    "fig, ax = plt.subplots(1, 2, figsize=(figure_size[0]*2, figure_size[1]), sharey=True)\n",
    "\n",
    "dplot(d, timetrace_bg, ax=ax[0])\n",
    "dplot(dv, timetrace_bg, ax=ax[1])\n",
    "\n",
    "plt.legend(['All-ph', 'DexDem', 'DexAem', 'AexAem'],\n",
    "           #bbox_to_anchor=(1.04, 0.9), \n",
    "           ncol=2, loc='upper left', fontsize=12)\n",
    "\n",
    "ax[0].legend([])\n",
    "ax[0].set_ylim(0, 5)\n",
    "ax[1].set_ylabel('')\n",
    "ax[0].set_title('(a)')\n",
    "ax[1].set_title('(b)')\n",
    "savefig('background_timetrace')"
   ]
  },
  {
   "cell_type": "code",
   "execution_count": null,
   "metadata": {
    "collapsed": true
   },
   "outputs": [],
   "source": []
  }
 ],
 "metadata": {
  "kernelspec": {
   "display_name": "Python 3",
   "language": "python",
   "name": "python3"
  },
  "language_info": {
   "codemirror_mode": {
    "name": "ipython",
    "version": 3
   },
   "file_extension": ".py",
   "mimetype": "text/x-python",
   "name": "python",
   "nbconvert_exporter": "python",
   "pygments_lexer": "ipython3",
   "version": "3.5.1"
  }
 },
 "nbformat": 4,
 "nbformat_minor": 0
}
