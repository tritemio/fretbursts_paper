{
 "cells": [
  {
   "cell_type": "markdown",
   "metadata": {},
   "source": [
    "# BVA Figures for FRETBursts Paper\n",
    "\n",
    "*This notebook generates the BVA figures for the paper **FRETBursts: Open Source Burst Analysis Toolkit for Confocal Single-Molecule FRET**.*"
   ]
  },
  {
   "cell_type": "markdown",
   "metadata": {},
   "source": [
    "# Loading the software"
   ]
  },
  {
   "cell_type": "markdown",
   "metadata": {},
   "source": [
    "We start loading the **`FRETBursts`** software:"
   ]
  },
  {
   "cell_type": "code",
   "execution_count": null,
   "metadata": {
    "collapsed": false,
    "scrolled": false
   },
   "outputs": [],
   "source": [
    "from fretbursts import *\n",
    "sns = init_notebook()"
   ]
  },
  {
   "cell_type": "code",
   "execution_count": null,
   "metadata": {
    "collapsed": false
   },
   "outputs": [],
   "source": [
    "full_fname1= '001_20dA_20dT_200mM_MgCl.sm'\n",
    "full_fname2= '002_HP3_RT_400mM_NaCl.sm'"
   ]
  },
  {
   "cell_type": "code",
   "execution_count": null,
   "metadata": {
    "collapsed": false
   },
   "outputs": [],
   "source": [
    "import os\n",
    "if os.path.isfile(full_fname1):\n",
    "    print (\"Perfect, I found the file!\")\n",
    "else:\n",
    "    print (\"Sorry, I can't find the file:\\n\", full_fname1)\n",
    "\n",
    "if os.path.isfile(full_fname2):\n",
    "    print (\"Perfect, I found the file!\")\n",
    "else:\n",
    "    print (\"Sorry, I can't find the file:\\n\", full_fname2)"
   ]
  },
  {
   "cell_type": "markdown",
   "metadata": {},
   "source": [
    "# Load the selected file"
   ]
  },
  {
   "cell_type": "code",
   "execution_count": null,
   "metadata": {
    "collapsed": false,
    "scrolled": true
   },
   "outputs": [],
   "source": [
    "d1 = loader.usalex(full_fname1)\n",
    "d2 = loader.usalex(full_fname2)"
   ]
  },
  {
   "cell_type": "markdown",
   "metadata": {},
   "source": [
    "# us-ALEX parameters\n",
    "\n",
    "At this point, in `d`, we only have the timestamps (`ph_times_t`) and the detector numbers (`det_t`):"
   ]
  },
  {
   "cell_type": "code",
   "execution_count": null,
   "metadata": {
    "collapsed": false
   },
   "outputs": [],
   "source": [
    "d1.add(det_donor_accept=(0, 1), \n",
    "      alex_period=4000, \n",
    "      D_ON=(2100, 3900), \n",
    "      A_ON=(150, 1900),\n",
    "      offset=700)\n",
    "bpl.plot_alternation_hist (d1)\n",
    "loader.usalex_apply_period(d1)"
   ]
  },
  {
   "cell_type": "code",
   "execution_count": null,
   "metadata": {
    "collapsed": false
   },
   "outputs": [],
   "source": [
    "d2.add(det_donor_accept=(0, 1), \n",
    "      alex_period=4000, \n",
    "      D_ON=(2100, 3900), \n",
    "      A_ON=(150, 1900),\n",
    "      offset=700)\n",
    "bpl.plot_alternation_hist (d2)\n",
    "loader.usalex_apply_period(d2)"
   ]
  },
  {
   "cell_type": "markdown",
   "metadata": {},
   "source": [
    "The previous alternation histogram looks correct, so we can apply the current parameters:"
   ]
  },
  {
   "cell_type": "code",
   "execution_count": null,
   "metadata": {
    "collapsed": false
   },
   "outputs": [],
   "source": [
    "d1.calc_bg(bg.exp_fit, time_s=50.1, tail_min_us='auto', F_bg=1.7)\n",
    "d2.calc_bg(bg.exp_fit, time_s=50.1, tail_min_us='auto', F_bg=1.7)"
   ]
  },
  {
   "cell_type": "markdown",
   "metadata": {},
   "source": [
    "# Burst Variance Analysis"
   ]
  },
  {
   "cell_type": "code",
   "execution_count": null,
   "metadata": {
    "collapsed": false
   },
   "outputs": [],
   "source": [
    "d1.burst_search(m=10, computefret=False, ph_sel=Ph_sel(Dex='DAem'))\n",
    "d1.calc_fret(count_ph=True, corrections=False)"
   ]
  },
  {
   "cell_type": "code",
   "execution_count": null,
   "metadata": {
    "collapsed": false
   },
   "outputs": [],
   "source": [
    "d2.burst_search(m=10, computefret=False, ph_sel=Ph_sel(Dex='DAem'))\n",
    "d2.calc_fret(count_ph=True, corrections=False)"
   ]
  },
  {
   "cell_type": "code",
   "execution_count": null,
   "metadata": {
    "collapsed": false
   },
   "outputs": [],
   "source": [
    "ds1 = d1.select_bursts(select_bursts.naa, th1=30, computefret=False)\n",
    "ds_1 = ds1.select_bursts(select_bursts.size, th1=30, computefret=False)\n",
    "ds_FRET1 = ds_1.select_bursts(select_bursts.S, S1=0.25, S2=0.85, computefret=False)"
   ]
  },
  {
   "cell_type": "code",
   "execution_count": null,
   "metadata": {
    "collapsed": false
   },
   "outputs": [],
   "source": [
    "ds2 = d2.select_bursts(select_bursts.naa, th1=70, computefret=False)\n",
    "ds_2 = ds2.select_bursts(select_bursts.size, th1=70, computefret=False)\n",
    "ds_FRET2 = ds_2.select_bursts(select_bursts.S, S1=0.25, S2=0.85, computefret=False)"
   ]
  },
  {
   "cell_type": "code",
   "execution_count": null,
   "metadata": {
    "collapsed": false
   },
   "outputs": [],
   "source": [
    "dx=ds_FRET1\n",
    "alex_jointplot(dx)\n",
    "plt.savefig('ALEX_static.png', dpi=200, bbox_inches='tight')"
   ]
  },
  {
   "cell_type": "code",
   "execution_count": null,
   "metadata": {
    "collapsed": false
   },
   "outputs": [],
   "source": [
    "dx=ds_FRET2\n",
    "alex_jointplot(dx)\n",
    "plt.savefig('ALEX_dynamic.png', dpi=200, bbox_inches='tight')"
   ]
  },
  {
   "cell_type": "code",
   "execution_count": null,
   "metadata": {
    "collapsed": false
   },
   "outputs": [],
   "source": [
    "bursts1 =ds_FRET1.mburst[0]\n",
    "ph_d1 = ds_FRET1.get_ph_times(ph_sel=Ph_sel(Dex='DAem'))\n",
    "AemDex_mask1 = ds_FRET1.get_ph_mask(ph_sel=Ph_sel(Dex='Aem')) \n",
    "Dex_mask1 = ds_FRET1.get_ph_mask(ph_sel=Ph_sel(Dex='DAem'))   \n",
    "AemDex_mask_d1 = AemDex_mask1[Dex_mask1]"
   ]
  },
  {
   "cell_type": "code",
   "execution_count": null,
   "metadata": {
    "collapsed": false
   },
   "outputs": [],
   "source": [
    "bursts_d1 = bursts1.recompute_index_reduce(ph_d1)"
   ]
  },
  {
   "cell_type": "code",
   "execution_count": null,
   "metadata": {
    "collapsed": false
   },
   "outputs": [],
   "source": [
    "n=7         # Determine the number of photons inside each sub-burst\n",
    "\n",
    "Std_small1=[]\n",
    "Avg_small1=[]\n",
    "for burst1 in bursts_d1:\n",
    "    E_small1=[]\n",
    "    startlist = range(burst1.istart, burst1.istop + 2 - n, n)\n",
    "    stoplist = [i + n for i in startlist]\n",
    "    for start, stop in zip(startlist, stoplist): \n",
    "        A_D = AemDex_mask_d1[start:stop].sum()\n",
    "        assert stop-start == n\n",
    "        E = A_D / n\n",
    "        E_small1.append(E)\n",
    "    Std_small1.append(np.std(E_small1))"
   ]
  },
  {
   "cell_type": "code",
   "execution_count": null,
   "metadata": {
    "collapsed": false,
    "scrolled": false
   },
   "outputs": [],
   "source": [
    "sns.set_style(style='darkgrid')\n",
    "plt.figure(figsize=(6,6))\n",
    "x=np.arange(0,1.01,0.01)\n",
    "y=np.sqrt((x*(1-x))/n)\n",
    "plt.plot(x,y, lw=3, color='red')\n",
    "im = sns.kdeplot(ds_FRET1.E_, np.array(Std_small1), shade=True, cmap='viridis', shade_lowest=False)\n",
    "plt.xlim(0,1)\n",
    "plt.ylim(0,0.4)\n",
    "plt.xlabel('PR', fontsize=14)\n",
    "plt.ylabel(r'$\\sigma_E$', fontsize=24)\n",
    "plt.savefig('BVA_static.png', dpi=200, bbox_inches='tight')"
   ]
  },
  {
   "cell_type": "code",
   "execution_count": null,
   "metadata": {
    "collapsed": false
   },
   "outputs": [],
   "source": [
    "bursts2 =ds_FRET2.mburst[0]\n",
    "ph_d2 = ds_FRET2.get_ph_times(ph_sel=Ph_sel(Dex='DAem'))\n",
    "AemDex_mask2 = ds_FRET2.get_ph_mask(ph_sel=Ph_sel(Dex='Aem')) \n",
    "Dex_mask2 = ds_FRET2.get_ph_mask(ph_sel=Ph_sel(Dex='DAem'))   \n",
    "AemDex_mask_d2 = AemDex_mask2[Dex_mask2]"
   ]
  },
  {
   "cell_type": "code",
   "execution_count": null,
   "metadata": {
    "collapsed": false
   },
   "outputs": [],
   "source": [
    "bursts_d2 = bursts2.recompute_index_reduce(ph_d2)"
   ]
  },
  {
   "cell_type": "code",
   "execution_count": null,
   "metadata": {
    "collapsed": false
   },
   "outputs": [],
   "source": [
    "n=7         # Determine the number of photons inside each sub-burst\n",
    "\n",
    "Std_small2=[]\n",
    "Avg_small2=[]\n",
    "for burst2 in bursts_d2:\n",
    "    E_small2=[]\n",
    "    startlist = range(burst2.istart, burst2.istop + 2 - n, n)\n",
    "    stoplist = [i + n for i in startlist]\n",
    "    for start, stop in zip(startlist, stoplist): \n",
    "        A_D = AemDex_mask_d2[start:stop].sum()\n",
    "        assert stop-start == n\n",
    "        E = A_D / n\n",
    "        E_small2.append(E)\n",
    "    Std_small2.append(np.std(E_small2))"
   ]
  },
  {
   "cell_type": "code",
   "execution_count": null,
   "metadata": {
    "collapsed": false,
    "scrolled": false
   },
   "outputs": [],
   "source": [
    "sns.set_style(style='darkgrid')\n",
    "plt.figure(figsize=(6,6))\n",
    "x=np.arange(0,1.01,0.01)\n",
    "y=np.sqrt((x*(1-x))/n)\n",
    "plt.plot(x,y, lw=3, color='red')\n",
    "im = sns.kdeplot(ds_FRET2.E_, np.array(Std_small2), shade=True, cmap='viridis', shade_lowest=False)\n",
    "plt.xlim(0,1)\n",
    "plt.ylim(0,0.4)\n",
    "plt.xlabel('PR', fontsize=14)\n",
    "plt.ylabel(r'$\\sigma_E$', fontsize=24)\n",
    "plt.savefig('BVA_dynamic.png', dpi=200, bbox_inches='tight')"
   ]
  },
  {
   "cell_type": "code",
   "execution_count": null,
   "metadata": {
    "collapsed": true
   },
   "outputs": [],
   "source": []
  },
  {
   "cell_type": "code",
   "execution_count": null,
   "metadata": {
    "collapsed": true
   },
   "outputs": [],
   "source": [
    "import sys\n",
    "from PIL import Image"
   ]
  },
  {
   "cell_type": "code",
   "execution_count": null,
   "metadata": {
    "collapsed": false
   },
   "outputs": [],
   "source": [
    "for label in ('static','dynamic'):\n",
    "    ALEX= Image.open(\"ALEX_%s.png\" % label)\n",
    "    BVA = Image.open(\"BVA_%s.png\" % label)\n",
    "    ALEX.thumbnail((1200,1088))\n",
    "    BVA.thumbnail((1160,1088))\n",
    "    new_im = Image.new('RGBA', (2560,1088))\n",
    "    im_list=[ALEX, BVA]\n",
    "    j=0\n",
    "    for im in im_list:\n",
    "        new_im.paste(im, (j,0))\n",
    "        j=j+1400\n",
    "\n",
    "#    new_im.show()\n",
    "    new_im.save('figures/ALEX_BVA_%s/ALEX_BVA_%s.png' % (label,label), bbox_inches='tight')"
   ]
  },
  {
   "cell_type": "code",
   "execution_count": null,
   "metadata": {
    "collapsed": false
   },
   "outputs": [],
   "source": []
  },
  {
   "cell_type": "code",
   "execution_count": null,
   "metadata": {
    "collapsed": true
   },
   "outputs": [],
   "source": []
  }
 ],
 "metadata": {
  "kernelspec": {
   "display_name": "Python 3",
   "language": "python",
   "name": "python3"
  },
  "language_info": {
   "codemirror_mode": {
    "name": "ipython",
    "version": 3
   },
   "file_extension": ".py",
   "mimetype": "text/x-python",
   "name": "python",
   "nbconvert_exporter": "python",
   "pygments_lexer": "ipython3",
   "version": "3.5.1"
  }
 },
 "nbformat": 4,
 "nbformat_minor": 0
}
